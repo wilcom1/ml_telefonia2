{
 "cells": [
  {
   "cell_type": "code",
   "execution_count": 1,
   "metadata": {},
   "outputs": [],
   "source": [
    "import pandas as pd\n",
    "import numpy as np\n",
    "import glob as gl\n",
    "import os"
   ]
  },
  {
   "cell_type": "markdown",
   "metadata": {},
   "source": [
    "# CONSTANTES"
   ]
  },
  {
   "cell_type": "code",
   "execution_count": 2,
   "metadata": {},
   "outputs": [],
   "source": [
    "PROJECT_ROUTE=\"D:/WILMERAMEZQUITA/workspace/ml_telefonia\"\n",
    "SOURCE_DIRECTORY_CLIENTS = \"/data/excel/\"\n",
    "SOURCE_DIRECTORY_CALLS = \"/data/csv/\"\n",
    "SOURCE_FILE_CALLS = \"/data/csv/Noviembre2019.csv\"\n",
    "SOURCE_FILE_CLIENTS = \"/data/excel/Noviembre (2019).xlsx\""
   ]
  },
  {
   "cell_type": "markdown",
   "metadata": {},
   "source": [
    "# FUNCIONES"
   ]
  },
  {
   "cell_type": "markdown",
   "metadata": {},
   "source": [
    "Obtiene el nombre del mes desde la ruta del archivo"
   ]
  },
  {
   "cell_type": "code",
   "execution_count": 3,
   "metadata": {},
   "outputs": [],
   "source": [
    "def getMonthNameFromSource(source):\n",
    "    filename = os.path.basename(source)\n",
    "    month = filename.split(\" \")[0]\n",
    "    return month"
   ]
  },
  {
   "cell_type": "markdown",
   "metadata": {},
   "source": [
    "Elimina columnas vacías de los archivos fuente"
   ]
  },
  {
   "cell_type": "code",
   "execution_count": 4,
   "metadata": {},
   "outputs": [],
   "source": [
    "def deleteEmptyColumn(dataframe,nameColumn):\n",
    "    if nameColumn in dataframe:\n",
    "        dataframe.rename({nameColumn:\"a\"}, axis=\"columns\", inplace=True)\n",
    "        dataframe.drop([\"a\"], axis=1, inplace=True)\n",
    "    return dataframe"
   ]
  },
  {
   "cell_type": "markdown",
   "metadata": {},
   "source": [
    "Elimina cualquier columna que tenga el nombre Unnamed"
   ]
  },
  {
   "cell_type": "code",
   "execution_count": 5,
   "metadata": {},
   "outputs": [],
   "source": [
    "def deleteAnyEmptyColumn(dataframe):\n",
    "    for i in range(0,50):\n",
    "        nameColumn = \"Unnamed: \"+str(i)\n",
    "        if nameColumn in dataframe:\n",
    "            dataframe.rename({nameColumn:\"a\"}, axis=\"columns\", inplace=True)\n",
    "            dataframe.drop([\"a\"], axis=1, inplace=True)\n",
    "    return dataframe"
   ]
  },
  {
   "cell_type": "markdown",
   "metadata": {},
   "source": [
    "Obtiene el año a partir del nombre del archivo"
   ]
  },
  {
   "cell_type": "code",
   "execution_count": 6,
   "metadata": {},
   "outputs": [],
   "source": [
    "def getYearFromSource(source):\n",
    "    filename = os.path.basename(source)\n",
    "    split1 = filename.split(\" \")\n",
    "    split2 = split1[1].split(\")\")\n",
    "    year = split2[0]\n",
    "    return year.replace(\"(\",\"\")"
   ]
  },
  {
   "cell_type": "markdown",
   "metadata": {},
   "source": [
    "Retorna el número del més a partir del nombre"
   ]
  },
  {
   "cell_type": "code",
   "execution_count": 7,
   "metadata": {},
   "outputs": [],
   "source": [
    "def getMonthNumberFromName(monthName):\n",
    "    monthName = str(monthName).upper() \n",
    "    if \"ENE\" in monthName or \"JAN\" in monthName:\n",
    "        return 1\n",
    "    if \"FEB\" in monthName:\n",
    "        return 2\n",
    "    if \"MAR\" in monthName:\n",
    "        return 3\n",
    "    if \"ABR\" in monthName or \"APR\" in monthName:\n",
    "        return 4\n",
    "    if \"MAY\" in monthName:\n",
    "        return 5\n",
    "    if \"JUN\" in monthName:\n",
    "        return 6\n",
    "    if \"JUL\" in monthName:\n",
    "        return 7\n",
    "    if \"AGO\" in monthName or \"AUG\" in monthName:\n",
    "        return 8\n",
    "    if \"SEP\" in monthName:\n",
    "        return 9\n",
    "    if \"OCT\" in monthName:\n",
    "        return 10\n",
    "    if \"NOV\" in monthName:\n",
    "        return 11\n",
    "    if \"DIC\" in monthName or \"DEC\" in monthName:\n",
    "        return 12\n",
    "    else:\n",
    "        return 0"
   ]
  },
  {
   "cell_type": "markdown",
   "metadata": {},
   "source": [
    "# PREPROCESAMIENTO DE DATOS"
   ]
  },
  {
   "cell_type": "markdown",
   "metadata": {},
   "source": [
    "Se lee la lista de archivos de excel que tienen información del cliente"
   ]
  },
  {
   "cell_type": "code",
   "execution_count": 8,
   "metadata": {},
   "outputs": [
    {
     "data": {
      "text/plain": [
       "['D:/WILMERAMEZQUITA/workspace/ml_telefonia/data/excel\\\\Abril (2020).xlsx',\n",
       " 'D:/WILMERAMEZQUITA/workspace/ml_telefonia/data/excel\\\\Agosto (2019).xlsx',\n",
       " 'D:/WILMERAMEZQUITA/workspace/ml_telefonia/data/excel\\\\Agosto (2020).xlsx',\n",
       " 'D:/WILMERAMEZQUITA/workspace/ml_telefonia/data/excel\\\\Diciembre (2019).xlsx',\n",
       " 'D:/WILMERAMEZQUITA/workspace/ml_telefonia/data/excel\\\\Enero (2020).xlsx',\n",
       " 'D:/WILMERAMEZQUITA/workspace/ml_telefonia/data/excel\\\\Febrero (2020).xlsx',\n",
       " 'D:/WILMERAMEZQUITA/workspace/ml_telefonia/data/excel\\\\Julio (2020).xlsx',\n",
       " 'D:/WILMERAMEZQUITA/workspace/ml_telefonia/data/excel\\\\Junio (2020).xlsx',\n",
       " 'D:/WILMERAMEZQUITA/workspace/ml_telefonia/data/excel\\\\Marzo (2020).xlsx',\n",
       " 'D:/WILMERAMEZQUITA/workspace/ml_telefonia/data/excel\\\\Mayo (2020).xlsx',\n",
       " 'D:/WILMERAMEZQUITA/workspace/ml_telefonia/data/excel\\\\Noviembre (2019).xlsx',\n",
       " 'D:/WILMERAMEZQUITA/workspace/ml_telefonia/data/excel\\\\Octubre (2019).xlsx',\n",
       " 'D:/WILMERAMEZQUITA/workspace/ml_telefonia/data/excel\\\\Septiembre (2019).xlsx']"
      ]
     },
     "execution_count": 8,
     "metadata": {},
     "output_type": "execute_result"
    }
   ],
   "source": [
    "gl.glob(PROJECT_ROUTE+SOURCE_DIRECTORY_CLIENTS+\"*.xlsx\")"
   ]
  },
  {
   "cell_type": "markdown",
   "metadata": {},
   "source": [
    "Se compila toda la información de clientes en un solo archivo csv"
   ]
  },
  {
   "cell_type": "code",
   "execution_count": 9,
   "metadata": {
    "scrolled": true
   },
   "outputs": [
    {
     "data": {
      "text/html": [
       "<div>\n",
       "<style scoped>\n",
       "    .dataframe tbody tr th:only-of-type {\n",
       "        vertical-align: middle;\n",
       "    }\n",
       "\n",
       "    .dataframe tbody tr th {\n",
       "        vertical-align: top;\n",
       "    }\n",
       "\n",
       "    .dataframe thead th {\n",
       "        text-align: right;\n",
       "    }\n",
       "</style>\n",
       "<table border=\"1\" class=\"dataframe\">\n",
       "  <thead>\n",
       "    <tr style=\"text-align: right;\">\n",
       "      <th></th>\n",
       "      <th>ID_cliente</th>\n",
       "      <th>Tipo</th>\n",
       "      <th>Empresa</th>\n",
       "      <th>Antiguedad</th>\n",
       "      <th>Plan</th>\n",
       "      <th>Edad</th>\n",
       "      <th>Sexo</th>\n",
       "      <th>Procedencia</th>\n",
       "      <th>Estudios</th>\n",
       "      <th>Ingresos</th>\n",
       "      <th>Ciudad</th>\n",
       "      <th>Grupo</th>\n",
       "      <th>Estado</th>\n",
       "      <th>N_llamadas</th>\n",
       "      <th>Valor</th>\n",
       "      <th>mes</th>\n",
       "      <th>año</th>\n",
       "      <th>mes_año</th>\n",
       "      <th>N_mes</th>\n",
       "    </tr>\n",
       "  </thead>\n",
       "  <tbody>\n",
       "    <tr>\n",
       "      <th>0</th>\n",
       "      <td>1.0</td>\n",
       "      <td>1.0</td>\n",
       "      <td>No Aplica</td>\n",
       "      <td>18.0</td>\n",
       "      <td>1.0</td>\n",
       "      <td>48.0</td>\n",
       "      <td>M</td>\n",
       "      <td>0.0</td>\n",
       "      <td>2</td>\n",
       "      <td>3.0</td>\n",
       "      <td>0.0</td>\n",
       "      <td>1.0</td>\n",
       "      <td>Low</td>\n",
       "      <td>3.0</td>\n",
       "      <td>9.0</td>\n",
       "      <td>Abril</td>\n",
       "      <td>2020</td>\n",
       "      <td>Abril 2020</td>\n",
       "      <td>4</td>\n",
       "    </tr>\n",
       "    <tr>\n",
       "      <th>1</th>\n",
       "      <td>2.0</td>\n",
       "      <td>1.0</td>\n",
       "      <td>No Aplica</td>\n",
       "      <td>11.0</td>\n",
       "      <td>1.0</td>\n",
       "      <td>69.0</td>\n",
       "      <td>M</td>\n",
       "      <td>0.0</td>\n",
       "      <td>3</td>\n",
       "      <td>4.0</td>\n",
       "      <td>0.0</td>\n",
       "      <td>1.0</td>\n",
       "      <td>Low</td>\n",
       "      <td>3.0</td>\n",
       "      <td>9.0</td>\n",
       "      <td>Abril</td>\n",
       "      <td>2020</td>\n",
       "      <td>Abril 2020</td>\n",
       "      <td>4</td>\n",
       "    </tr>\n",
       "    <tr>\n",
       "      <th>2</th>\n",
       "      <td>3.0</td>\n",
       "      <td>1.0</td>\n",
       "      <td>No Aplica</td>\n",
       "      <td>22.0</td>\n",
       "      <td>1.0</td>\n",
       "      <td>31.0</td>\n",
       "      <td>M</td>\n",
       "      <td>1.0</td>\n",
       "      <td>2</td>\n",
       "      <td>2.0</td>\n",
       "      <td>0.0</td>\n",
       "      <td>1.0</td>\n",
       "      <td>Low</td>\n",
       "      <td>2.0</td>\n",
       "      <td>6.0</td>\n",
       "      <td>Abril</td>\n",
       "      <td>2020</td>\n",
       "      <td>Abril 2020</td>\n",
       "      <td>4</td>\n",
       "    </tr>\n",
       "    <tr>\n",
       "      <th>3</th>\n",
       "      <td>4.0</td>\n",
       "      <td>1.0</td>\n",
       "      <td>No Aplica</td>\n",
       "      <td>3.0</td>\n",
       "      <td>1.0</td>\n",
       "      <td>44.0</td>\n",
       "      <td>H</td>\n",
       "      <td>0.0</td>\n",
       "      <td>3</td>\n",
       "      <td>3.0</td>\n",
       "      <td>1.0</td>\n",
       "      <td>1.0</td>\n",
       "      <td>Low</td>\n",
       "      <td>2.0</td>\n",
       "      <td>6.0</td>\n",
       "      <td>Abril</td>\n",
       "      <td>2020</td>\n",
       "      <td>Abril 2020</td>\n",
       "      <td>4</td>\n",
       "    </tr>\n",
       "    <tr>\n",
       "      <th>4</th>\n",
       "      <td>5.0</td>\n",
       "      <td>1.0</td>\n",
       "      <td>No Aplica</td>\n",
       "      <td>36.0</td>\n",
       "      <td>1.0</td>\n",
       "      <td>57.0</td>\n",
       "      <td>M</td>\n",
       "      <td>0.0</td>\n",
       "      <td>3</td>\n",
       "      <td>3.0</td>\n",
       "      <td>0.0</td>\n",
       "      <td>1.0</td>\n",
       "      <td>Low</td>\n",
       "      <td>2.0</td>\n",
       "      <td>6.0</td>\n",
       "      <td>Abril</td>\n",
       "      <td>2020</td>\n",
       "      <td>Abril 2020</td>\n",
       "      <td>4</td>\n",
       "    </tr>\n",
       "    <tr>\n",
       "      <th>...</th>\n",
       "      <td>...</td>\n",
       "      <td>...</td>\n",
       "      <td>...</td>\n",
       "      <td>...</td>\n",
       "      <td>...</td>\n",
       "      <td>...</td>\n",
       "      <td>...</td>\n",
       "      <td>...</td>\n",
       "      <td>...</td>\n",
       "      <td>...</td>\n",
       "      <td>...</td>\n",
       "      <td>...</td>\n",
       "      <td>...</td>\n",
       "      <td>...</td>\n",
       "      <td>...</td>\n",
       "      <td>...</td>\n",
       "      <td>...</td>\n",
       "      <td>...</td>\n",
       "      <td>...</td>\n",
       "    </tr>\n",
       "    <tr>\n",
       "      <th>1474</th>\n",
       "      <td>1496.0</td>\n",
       "      <td>3.0</td>\n",
       "      <td>Empresa A</td>\n",
       "      <td>37.0</td>\n",
       "      <td>2.0</td>\n",
       "      <td>55.0</td>\n",
       "      <td>M</td>\n",
       "      <td>0.0</td>\n",
       "      <td>3</td>\n",
       "      <td>4.0</td>\n",
       "      <td>1.0</td>\n",
       "      <td>3.0</td>\n",
       "      <td>Super Heavy</td>\n",
       "      <td>21.0</td>\n",
       "      <td>56.7</td>\n",
       "      <td>Septiembre</td>\n",
       "      <td>2019</td>\n",
       "      <td>Septiembre 2019</td>\n",
       "      <td>9</td>\n",
       "    </tr>\n",
       "    <tr>\n",
       "      <th>1475</th>\n",
       "      <td>1497.0</td>\n",
       "      <td>3.0</td>\n",
       "      <td>Empresa A</td>\n",
       "      <td>35.0</td>\n",
       "      <td>2.0</td>\n",
       "      <td>48.0</td>\n",
       "      <td>H</td>\n",
       "      <td>0.0</td>\n",
       "      <td>1</td>\n",
       "      <td>3.0</td>\n",
       "      <td>0.0</td>\n",
       "      <td>3.0</td>\n",
       "      <td>Super Heavy</td>\n",
       "      <td>21.0</td>\n",
       "      <td>56.7</td>\n",
       "      <td>Septiembre</td>\n",
       "      <td>2019</td>\n",
       "      <td>Septiembre 2019</td>\n",
       "      <td>9</td>\n",
       "    </tr>\n",
       "    <tr>\n",
       "      <th>1476</th>\n",
       "      <td>1498.0</td>\n",
       "      <td>3.0</td>\n",
       "      <td>Empresa B</td>\n",
       "      <td>18.0</td>\n",
       "      <td>2.0</td>\n",
       "      <td>54.0</td>\n",
       "      <td>M</td>\n",
       "      <td>0.0</td>\n",
       "      <td>2</td>\n",
       "      <td>3.0</td>\n",
       "      <td>1.0</td>\n",
       "      <td>3.0</td>\n",
       "      <td>Super Heavy</td>\n",
       "      <td>20.0</td>\n",
       "      <td>54.0</td>\n",
       "      <td>Septiembre</td>\n",
       "      <td>2019</td>\n",
       "      <td>Septiembre 2019</td>\n",
       "      <td>9</td>\n",
       "    </tr>\n",
       "    <tr>\n",
       "      <th>1477</th>\n",
       "      <td>1499.0</td>\n",
       "      <td>3.0</td>\n",
       "      <td>Empresa B</td>\n",
       "      <td>38.0</td>\n",
       "      <td>2.0</td>\n",
       "      <td>55.0</td>\n",
       "      <td>H</td>\n",
       "      <td>0.0</td>\n",
       "      <td>2</td>\n",
       "      <td>1.0</td>\n",
       "      <td>0.0</td>\n",
       "      <td>3.0</td>\n",
       "      <td>Super Heavy</td>\n",
       "      <td>22.0</td>\n",
       "      <td>59.4</td>\n",
       "      <td>Septiembre</td>\n",
       "      <td>2019</td>\n",
       "      <td>Septiembre 2019</td>\n",
       "      <td>9</td>\n",
       "    </tr>\n",
       "    <tr>\n",
       "      <th>1478</th>\n",
       "      <td>1500.0</td>\n",
       "      <td>3.0</td>\n",
       "      <td>Empresa B</td>\n",
       "      <td>6.0</td>\n",
       "      <td>2.0</td>\n",
       "      <td>31.0</td>\n",
       "      <td>H</td>\n",
       "      <td>0.0</td>\n",
       "      <td>3</td>\n",
       "      <td>1.0</td>\n",
       "      <td>0.0</td>\n",
       "      <td>3.0</td>\n",
       "      <td>Super Heavy</td>\n",
       "      <td>22.0</td>\n",
       "      <td>59.4</td>\n",
       "      <td>Septiembre</td>\n",
       "      <td>2019</td>\n",
       "      <td>Septiembre 2019</td>\n",
       "      <td>9</td>\n",
       "    </tr>\n",
       "  </tbody>\n",
       "</table>\n",
       "<p>17564 rows × 19 columns</p>\n",
       "</div>"
      ],
      "text/plain": [
       "      ID_cliente  Tipo    Empresa  Antiguedad  Plan  Edad Sexo  Procedencia  \\\n",
       "0            1.0   1.0  No Aplica        18.0   1.0  48.0    M          0.0   \n",
       "1            2.0   1.0  No Aplica        11.0   1.0  69.0    M          0.0   \n",
       "2            3.0   1.0  No Aplica        22.0   1.0  31.0    M          1.0   \n",
       "3            4.0   1.0  No Aplica         3.0   1.0  44.0    H          0.0   \n",
       "4            5.0   1.0  No Aplica        36.0   1.0  57.0    M          0.0   \n",
       "...          ...   ...        ...         ...   ...   ...  ...          ...   \n",
       "1474      1496.0   3.0  Empresa A        37.0   2.0  55.0    M          0.0   \n",
       "1475      1497.0   3.0  Empresa A        35.0   2.0  48.0    H          0.0   \n",
       "1476      1498.0   3.0  Empresa B        18.0   2.0  54.0    M          0.0   \n",
       "1477      1499.0   3.0  Empresa B        38.0   2.0  55.0    H          0.0   \n",
       "1478      1500.0   3.0  Empresa B         6.0   2.0  31.0    H          0.0   \n",
       "\n",
       "     Estudios  Ingresos  Ciudad  Grupo       Estado  N_llamadas  Valor  \\\n",
       "0           2       3.0     0.0    1.0          Low         3.0    9.0   \n",
       "1           3       4.0     0.0    1.0          Low         3.0    9.0   \n",
       "2           2       2.0     0.0    1.0          Low         2.0    6.0   \n",
       "3           3       3.0     1.0    1.0          Low         2.0    6.0   \n",
       "4           3       3.0     0.0    1.0          Low         2.0    6.0   \n",
       "...       ...       ...     ...    ...          ...         ...    ...   \n",
       "1474        3       4.0     1.0    3.0  Super Heavy        21.0   56.7   \n",
       "1475        1       3.0     0.0    3.0  Super Heavy        21.0   56.7   \n",
       "1476        2       3.0     1.0    3.0  Super Heavy        20.0   54.0   \n",
       "1477        2       1.0     0.0    3.0  Super Heavy        22.0   59.4   \n",
       "1478        3       1.0     0.0    3.0  Super Heavy        22.0   59.4   \n",
       "\n",
       "             mes   año          mes_año  N_mes  \n",
       "0          Abril  2020       Abril 2020      4  \n",
       "1          Abril  2020       Abril 2020      4  \n",
       "2          Abril  2020       Abril 2020      4  \n",
       "3          Abril  2020       Abril 2020      4  \n",
       "4          Abril  2020       Abril 2020      4  \n",
       "...          ...   ...              ...    ...  \n",
       "1474  Septiembre  2019  Septiembre 2019      9  \n",
       "1475  Septiembre  2019  Septiembre 2019      9  \n",
       "1476  Septiembre  2019  Septiembre 2019      9  \n",
       "1477  Septiembre  2019  Septiembre 2019      9  \n",
       "1478  Septiembre  2019  Septiembre 2019      9  \n",
       "\n",
       "[17564 rows x 19 columns]"
      ]
     },
     "execution_count": 9,
     "metadata": {},
     "output_type": "execute_result"
    }
   ],
   "source": [
    "df_users_all = pd.DataFrame()\n",
    "for file in gl.glob(PROJECT_ROUTE+SOURCE_DIRECTORY_CLIENTS+\"*.xlsx\"):\n",
    "\n",
    "    df_users_month = pd.read_excel(file)\n",
    "    df_users_month = deleteAnyEmptyColumn(df_users_month)\n",
    "    df_users_month.columns=['ID_cliente','Tipo','Empresa','Antiguedad','Plan','Edad','Sexo','Procedencia','Estudios','Ingresos','Ciudad','Grupo','Estado','N_llamadas','Valor']\n",
    "    df_users_month['mes']= getMonthNameFromSource(str(file))\n",
    "    df_users_month['año']= getYearFromSource(str(file))\n",
    "    df_users_month['N_mes']= getMonthNumberFromName(df_users_month['mes'])\n",
    "    df_users_all = df_users_all.append(df_users_month,ignore_index=False)\n",
    "df_users_all"
   ]
  },
  {
   "cell_type": "markdown",
   "metadata": {},
   "source": [
    "# ANÁLISIS DE DATOS"
   ]
  },
  {
   "cell_type": "markdown",
   "metadata": {},
   "source": [
    "## Cantidad de Clientes por Més"
   ]
  },
  {
   "cell_type": "code",
   "execution_count": null,
   "metadata": {},
   "outputs": [],
   "source": [
    "df_month_clients = df_users_all.pivot_table(index=['mes_año'],aggfunc='size').to_frame()\n",
    "df_month_clients['N_mes']=getMonthNumberFromName(str(df_month_clients['mes']))\n",
    "df_month_clients['N_mes']=getMonthNumberFromName(df_month_clients[0])\n",
    "\n",
    "df_month_clients"
   ]
  },
  {
   "cell_type": "code",
   "execution_count": null,
   "metadata": {},
   "outputs": [],
   "source": [
    "df_users.merge(df_calls,'left')"
   ]
  },
  {
   "cell_type": "code",
   "execution_count": null,
   "metadata": {},
   "outputs": [],
   "source": [
    "df_calls = pd.read_csv(PROJECT_ROUTE+SOURCE_FILE_CALLS)\n",
    "df_calls.columns = ['id','id_cliente','conteo_llamadas','usuario_destino']\n",
    "df_calls"
   ]
  },
  {
   "cell_type": "markdown",
   "metadata": {},
   "source": [
    "## Campos de la tabla de usuarios\n",
    "\n",
    "tipo: 1-Físico | 2-Autonomo | 3-Empresa  \n",
    "sexo: 1-Hombre | 2-Mujer  \n",
    "procedencia: 1-Extrangero | 0-Local  \n",
    "ingresos: 1-Bajo | 2-Medio | 3-Alto | 4-Ejecutivo  \n",
    "ciudad: 1-Madrid | 2-Barcelona  \n",
    "valor_pagado: gold 3Euros | premium 2.7Euros  "
   ]
  }
 ],
 "metadata": {
  "kernelspec": {
   "display_name": "Python 3",
   "language": "python",
   "name": "python3"
  },
  "language_info": {
   "codemirror_mode": {
    "name": "ipython",
    "version": 3
   },
   "file_extension": ".py",
   "mimetype": "text/x-python",
   "name": "python",
   "nbconvert_exporter": "python",
   "pygments_lexer": "ipython3",
   "version": "3.8.5"
  }
 },
 "nbformat": 4,
 "nbformat_minor": 4
}
